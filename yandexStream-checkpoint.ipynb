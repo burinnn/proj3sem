{
 "cells": [
  {
   "cell_type": "markdown",
   "id": "cf6f65d6-ae2f-4de4-8af6-406d4e2630ba",
   "metadata": {},
   "source": [
    "# Проект <span style=\"color:red\">Я</span>ндекс.Поток"
   ]
  },
  {
   "cell_type": "markdown",
   "id": "1421f122-dc3c-4c51-bee9-e605aed0fb8d",
   "metadata": {
    "tags": []
   },
   "source": [
    "## Описание проекта"
   ]
  },
  {
   "cell_type": "markdown",
   "id": "db550f86-a5d2-4b06-b49f-b62946b7c3ea",
   "metadata": {},
   "source": [
    "### Постановка задачи + Анализ источников"
   ]
  },
  {
   "cell_type": "markdown",
   "id": "48e2907b-1b0d-4489-9780-d821349b7aa6",
   "metadata": {},
   "source": [
    "Разработать программу, которая по заданному треку подбирает наиболее подходящие по жанру треки и выводит результат в порядке убывания \"схожести\""
   ]
  },
  {
   "cell_type": "markdown",
   "id": "99b5801e-7eb1-413b-a2de-2afcbfda0334",
   "metadata": {},
   "source": [
    "Цели:\n",
    "1. <p style=\"color:green\">Найти всевозможные ссылки на агрегаторы музыкальные либо на поисковики (shazam, zaycev)</p>\n",
    "2. Концепция: по названию ищем жанр(-ы), далее находим похожие по жанру треки (по популярности) + язык + треки похожих исполнителей + треки того же года  -> на первой сотне пытаемся найти пересечения\n",
    "Если они, то выводим список пересечений. Если нет, то ...\n",
    "\n",
    "Получив требуемые ресурсы, составить словарь синонимов для жанров, чтобы не было проблем с составленим запросов\n"
   ]
  },
  {
   "cell_type": "markdown",
   "id": "2aad95ae-d54d-4528-b984-8745d1b85a67",
   "metadata": {
    "jp-MarkdownHeadingCollapsed": true,
    "tags": []
   },
   "source": [
    "## Подготовка"
   ]
  },
  {
   "cell_type": "markdown",
   "id": "355d1381-5745-4895-969f-2bfb2d311ca3",
   "metadata": {},
   "source": [
    "###  Подключаем библиотеки и устанавливаем рабочую директорию"
   ]
  },
  {
   "cell_type": "code",
   "execution_count": 7,
   "id": "649842f6-c93b-4750-bb89-e8f181fd191a",
   "metadata": {},
   "outputs": [],
   "source": [
    "import pandas as pd\n",
    "from pandas import read_csv"
   ]
  },
  {
   "cell_type": "code",
   "execution_count": 8,
   "id": "70683953-bb19-4709-ade3-406505da149f",
   "metadata": {},
   "outputs": [],
   "source": [
    "import os\n",
    "os.chdir(os.getcwd())"
   ]
  },
  {
   "cell_type": "markdown",
   "id": "8f0ef346-7476-4af0-bb5a-49ef82ecdad1",
   "metadata": {},
   "source": [
    "### Подгружаем данные по ТОП-200 "
   ]
  },
  {
   "cell_type": "code",
   "execution_count": 11,
   "id": "a5bf754f-e984-411b-a545-5268fb2e2a12",
   "metadata": {},
   "outputs": [
    {
     "data": {
      "text/html": [
       "<div>\n",
       "<style scoped>\n",
       "    .dataframe tbody tr th:only-of-type {\n",
       "        vertical-align: middle;\n",
       "    }\n",
       "\n",
       "    .dataframe tbody tr th {\n",
       "        vertical-align: top;\n",
       "    }\n",
       "\n",
       "    .dataframe thead th {\n",
       "        text-align: right;\n",
       "    }\n",
       "</style>\n",
       "<table border=\"1\" class=\"dataframe\">\n",
       "  <thead>\n",
       "    <tr style=\"text-align: right;\">\n",
       "      <th></th>\n",
       "      <th>Rank</th>\n",
       "      <th>Artist</th>\n",
       "      <th>Title</th>\n",
       "    </tr>\n",
       "  </thead>\n",
       "  <tbody>\n",
       "    <tr>\n",
       "      <th>0</th>\n",
       "      <td>1</td>\n",
       "      <td>DJ Smash &amp; NIVESTA</td>\n",
       "      <td>Позвони</td>\n",
       "    </tr>\n",
       "    <tr>\n",
       "      <th>1</th>\n",
       "      <td>2</td>\n",
       "      <td>Markul &amp; Тося Чайкина</td>\n",
       "      <td>Стрелы</td>\n",
       "    </tr>\n",
       "    <tr>\n",
       "      <th>2</th>\n",
       "      <td>3</td>\n",
       "      <td>Bakr</td>\n",
       "      <td>Вредина (Mbts Remix)</td>\n",
       "    </tr>\n",
       "    <tr>\n",
       "      <th>3</th>\n",
       "      <td>4</td>\n",
       "      <td>Miyagi &amp; Эндшпиль</td>\n",
       "      <td>Silhouette</td>\n",
       "    </tr>\n",
       "    <tr>\n",
       "      <th>4</th>\n",
       "      <td>5</td>\n",
       "      <td>Mario Fresh &amp; Renvtø</td>\n",
       "      <td>Necesar</td>\n",
       "    </tr>\n",
       "  </tbody>\n",
       "</table>\n",
       "</div>"
      ],
      "text/plain": [
       "   Rank                 Artist                 Title\n",
       "0     1     DJ Smash & NIVESTA               Позвони\n",
       "1     2  Markul & Тося Чайкина                Стрелы\n",
       "2     3                   Bakr  Вредина (Mbts Remix)\n",
       "3     4      Miyagi & Эндшпиль            Silhouette\n",
       "4     5   Mario Fresh & Renvtø               Necesar"
      ]
     },
     "execution_count": 11,
     "metadata": {},
     "output_type": "execute_result"
    }
   ],
   "source": [
    "df_rus_200 = read_csv(\"data/ShazamTopRus200.csv\", skiprows = 2, on_bad_lines='skip')\n",
    "df_rus_200.head()"
   ]
  },
  {
   "cell_type": "code",
   "execution_count": 12,
   "id": "9cdfa5ab-cafd-48a9-be77-ec8a46004179",
   "metadata": {},
   "outputs": [
    {
     "data": {
      "text/plain": [
       "(200, 3)"
      ]
     },
     "execution_count": 12,
     "metadata": {},
     "output_type": "execute_result"
    }
   ],
   "source": [
    "df_rus_200.shape"
   ]
  },
  {
   "cell_type": "code",
   "execution_count": 13,
   "id": "d98e6020-65e6-4fcc-976e-4e87d87204b8",
   "metadata": {},
   "outputs": [
    {
     "data": {
      "text/html": [
       "<div>\n",
       "<style scoped>\n",
       "    .dataframe tbody tr th:only-of-type {\n",
       "        vertical-align: middle;\n",
       "    }\n",
       "\n",
       "    .dataframe tbody tr th {\n",
       "        vertical-align: top;\n",
       "    }\n",
       "\n",
       "    .dataframe thead th {\n",
       "        text-align: right;\n",
       "    }\n",
       "</style>\n",
       "<table border=\"1\" class=\"dataframe\">\n",
       "  <thead>\n",
       "    <tr style=\"text-align: right;\">\n",
       "      <th></th>\n",
       "      <th>Rank</th>\n",
       "      <th>Artist</th>\n",
       "      <th>Title</th>\n",
       "    </tr>\n",
       "  </thead>\n",
       "  <tbody>\n",
       "    <tr>\n",
       "      <th>0</th>\n",
       "      <td>1</td>\n",
       "      <td>JIN</td>\n",
       "      <td>The Astronaut</td>\n",
       "    </tr>\n",
       "    <tr>\n",
       "      <th>1</th>\n",
       "      <td>2</td>\n",
       "      <td>Sam Smith &amp; Kim Petras</td>\n",
       "      <td>Unholy</td>\n",
       "    </tr>\n",
       "    <tr>\n",
       "      <th>2</th>\n",
       "      <td>3</td>\n",
       "      <td>Rihanna</td>\n",
       "      <td>Lift Me Up (From Black Panther: Wakanda Foreve...</td>\n",
       "    </tr>\n",
       "    <tr>\n",
       "      <th>3</th>\n",
       "      <td>4</td>\n",
       "      <td>Oliver Tree &amp; Robin Schulz</td>\n",
       "      <td>Miss You</td>\n",
       "    </tr>\n",
       "    <tr>\n",
       "      <th>4</th>\n",
       "      <td>5</td>\n",
       "      <td>Rema</td>\n",
       "      <td>Calm Down</td>\n",
       "    </tr>\n",
       "  </tbody>\n",
       "</table>\n",
       "</div>"
      ],
      "text/plain": [
       "   Rank                      Artist  \\\n",
       "0     1                         JIN   \n",
       "1     2      Sam Smith & Kim Petras   \n",
       "2     3                     Rihanna   \n",
       "3     4  Oliver Tree & Robin Schulz   \n",
       "4     5                        Rema   \n",
       "\n",
       "                                               Title  \n",
       "0                                      The Astronaut  \n",
       "1                                             Unholy  \n",
       "2  Lift Me Up (From Black Panther: Wakanda Foreve...  \n",
       "3                                           Miss You  \n",
       "4                                          Calm Down  "
      ]
     },
     "execution_count": 13,
     "metadata": {},
     "output_type": "execute_result"
    }
   ],
   "source": [
    "df_world_200 = read_csv(\"data/ShazamTopWorld200.csv\", skiprows = 2, on_bad_lines='skip')\n",
    "df_world_200.head()"
   ]
  },
  {
   "cell_type": "code",
   "execution_count": 14,
   "id": "f32938be-40b9-48fc-8601-50035c1dfa34",
   "metadata": {},
   "outputs": [
    {
     "data": {
      "text/plain": [
       "(199, 3)"
      ]
     },
     "execution_count": 14,
     "metadata": {},
     "output_type": "execute_result"
    }
   ],
   "source": [
    "df_world_200.shape"
   ]
  },
  {
   "cell_type": "code",
   "execution_count": 22,
   "id": "e83eb09d-197b-48a5-92ff-c814c2523b49",
   "metadata": {},
   "outputs": [
    {
     "data": {
      "text/plain": [
       "True"
      ]
     },
     "execution_count": 22,
     "metadata": {},
     "output_type": "execute_result"
    }
   ],
   "source": [
    "not df_world_200.loc[df_world_200['Title']=='Miss You'].empty"
   ]
  },
  {
   "cell_type": "markdown",
   "id": "ee30d732-6ccb-4e79-8192-a7c4eed889a3",
   "metadata": {
    "jp-MarkdownHeadingCollapsed": true,
    "tags": []
   },
   "source": [
    "## Реализация"
   ]
  },
  {
   "cell_type": "code",
   "execution_count": 39,
   "id": "696f399b-fdc5-4195-ada5-c1af849b7258",
   "metadata": {},
   "outputs": [],
   "source": [
    "import pandas as pd\n",
    "from pandas import read_csv\n",
    "import numpy as np\n",
    "import os\n",
    "os.chdir(os.getcwd())"
   ]
  },
  {
   "cell_type": "code",
   "execution_count": 24,
   "id": "0336fa48-307d-4697-a9bc-4b713a324f46",
   "metadata": {},
   "outputs": [],
   "source": [
    "# Top-200\n",
    "df_rus_top = read_csv(\"data/ShazamRusTop200.csv\", skiprows = 2, on_bad_lines='skip')\n",
    "df_world_top = read_csv(\"data/ShazamWorldTop200.csv\", skiprows = 2, on_bad_lines='skip')\n",
    "\n",
    "# Pop\n",
    "df_rus_pop = read_csv(\"data/ShazamRusPop.csv\", skiprows = 2, on_bad_lines='skip')\n",
    "df_world_pop = read_csv(\"data/ShazamWorldPop.csv\", skiprows = 2, on_bad_lines='skip')\n",
    "\n",
    "# Hip-Hop\n",
    "df_rus_hiphop = read_csv(\"data/ShazamRusHipHop.csv\", skiprows = 2, on_bad_lines='skip')\n",
    "df_world_hiphop = read_csv(\"data/ShazamWorldHipHop.csv\", skiprows = 2, on_bad_lines='skip')\n",
    "\n",
    "# Dance\n",
    "df_rus_dance = read_csv(\"data/ShazamRusDance.csv\", skiprows = 2, on_bad_lines='skip')\n",
    "df_world_dance = read_csv(\"data/ShazamWorldDance.csv\", skiprows = 2, on_bad_lines='skip')"
   ]
  },
  {
   "cell_type": "code",
   "execution_count": 26,
   "id": "d2e803bf-3dc0-4195-8039-a64ad810552f",
   "metadata": {},
   "outputs": [],
   "source": [
    "# MAIN DATABASE\n",
    "\n",
    "music_dict = {\n",
    "    \"Top200\": [\n",
    "        {\n",
    "            \"path\": \"data/ShazamRusTop200.csv\", \n",
    "            \"df\": df_rus_top\n",
    "        }, \n",
    "        {\n",
    "            \"path\": \"data/ShazamWorldTop200.csv\", \n",
    "            \"df\": df_world_top\n",
    "        }],\n",
    "    \"Pop\":[\n",
    "        {\n",
    "            \"path\": \"data/ShazamRusPop.csv\", \n",
    "            \"df\": df_rus_pop\n",
    "        }, \n",
    "        {\n",
    "            \"path\":\"data/ShazamWorldPop.csv\", \n",
    "            \"df\": df_world_pop\n",
    "        }], \n",
    "    \"Hip-Hop\":[\n",
    "        {\n",
    "            \"path\": \"data/ShazamRusHipHop.csv\", \n",
    "            \"df\": df_rus_hiphop\n",
    "        }, \n",
    "        {\n",
    "            \"path\": \"data/ShazamWorldHipHop.csv\", \n",
    "            \"df\": df_world_hiphop\n",
    "        }], \n",
    "    \"Dance\": [\n",
    "        {\n",
    "            \"path\": \"data/ShazamRusDance.csv\", \n",
    "            \"df\": df_rus_dance\n",
    "        }, \n",
    "        {\n",
    "            \"path\": \"data/ShazamWorldDance.csv\", \n",
    "            \"df\": df_world_dance\n",
    "        }]\n",
    "        }"
   ]
  },
  {
   "cell_type": "markdown",
   "id": "e236b545-ba39-4337-858b-a58d1261a903",
   "metadata": {},
   "source": [
    "### NextTrack Function"
   ]
  },
  {
   "cell_type": "code",
   "execution_count": 69,
   "id": "7c89fb2d-2107-4b4d-8131-e108d814aa72",
   "metadata": {},
   "outputs": [],
   "source": [
    "def getNextTrack(title: str, artist = \"Noname\", track_num = 1) -> list:\n",
    "    \"\"\" Функция поиска следующего/-их для воспроизведения трека/-ов \"\"\"\n",
    "    \n",
    "    search_res = []\n",
    "    \n",
    "    # поиск подходящих баз данных из числа имеющихся\n",
    "    for key, value in music_dict.items():\n",
    "        for data in value:\n",
    "            df = data[\"df\"]\n",
    "            if not df.loc[df['Title'] == title].empty:\n",
    "                search_res.append([key, df])\n",
    "                \n",
    "    # если подходящих не нашлось\n",
    "    if not search_res:\n",
    "        if artist == \"Noname\":\n",
    "            variants = music_dict[\"Top200\"][0][\"df\"][\"Title\"]\n",
    "            return variants.sample(n=track_num, random_state=np.random.randint(1, 1000)).values[:track_num].tolist()\n",
    "        else:\n",
    "            pass\n",
    "\n",
    "    # если мы нашли хотя бы одну подходящую базу данных\n",
    "    variants = []\n",
    "    for key, df in search_res:\n",
    "        for track in df[\"Title\"].values:\n",
    "            variants.append([key, track])\n",
    "            \n",
    "    variants = np.array(variants)\n",
    "    np.random.shuffle(variants)\n",
    "    \n",
    "    return variants[:track_num].tolist()\n",
    "        \n",
    "    "
   ]
  },
  {
   "cell_type": "markdown",
   "id": "29c28108-ac5b-4298-ae36-59fefe5045a7",
   "metadata": {},
   "source": [
    "### Проверка"
   ]
  },
  {
   "cell_type": "code",
   "execution_count": 70,
   "id": "3c1d3c0f-0435-4b16-a9d3-215b246d4aa1",
   "metadata": {},
   "outputs": [
    {
     "data": {
      "text/plain": [
       "['Не буди меня',\n",
       " 'Калифорния',\n",
       " 'Курточка',\n",
       " 'la di die (feat. jxdn)',\n",
       " '#HABIBATI']"
      ]
     },
     "execution_count": 70,
     "metadata": {},
     "output_type": "execute_result"
    }
   ],
   "source": [
    "getNextTrack(\"asdfghj\", track_num = 5)"
   ]
  },
  {
   "cell_type": "code",
   "execution_count": 71,
   "id": "83cc143d-e833-4ad9-929c-cfecd0bad06a",
   "metadata": {},
   "outputs": [
    {
     "data": {
      "text/plain": [
       "[['Top200', 'Born Again'],\n",
       " ['Top200', \"I'm Good (Blue)\"],\n",
       " ['Dance', 'Infinity 2008 (Klaas Vocal Edit)'],\n",
       " ['Pop', 'lovely'],\n",
       " ['Top200', 'Saloon']]"
      ]
     },
     "execution_count": 71,
     "metadata": {},
     "output_type": "execute_result"
    }
   ],
   "source": [
    "getNextTrack(\"Miss You\", track_num = 5)"
   ]
  },
  {
   "cell_type": "code",
   "execution_count": null,
   "id": "f3b7f52a-7d7a-42f9-b86f-3ece5d114250",
   "metadata": {},
   "outputs": [],
   "source": []
  },
  {
   "cell_type": "markdown",
   "id": "511837c3-c229-4b93-9e94-912cd574672b",
   "metadata": {
    "jp-MarkdownHeadingCollapsed": true,
    "tags": []
   },
   "source": [
    "## Анализ работы"
   ]
  },
  {
   "cell_type": "code",
   "execution_count": null,
   "id": "51f8ca95-a6f9-4bcf-af10-b207036b0545",
   "metadata": {},
   "outputs": [],
   "source": []
  },
  {
   "cell_type": "code",
   "execution_count": null,
   "id": "897ea9c3-0bfd-42db-b417-555c0e68ef9b",
   "metadata": {},
   "outputs": [],
   "source": []
  },
  {
   "cell_type": "code",
   "execution_count": null,
   "id": "92993162-e828-491a-a1f2-ffe3c2e49b49",
   "metadata": {},
   "outputs": [],
   "source": []
  },
  {
   "cell_type": "code",
   "execution_count": null,
   "id": "136fa513-e188-4b48-82d3-2a86eaa6fa4f",
   "metadata": {},
   "outputs": [],
   "source": []
  }
 ],
 "metadata": {
  "kernelspec": {
   "display_name": "Python 3 (ipykernel)",
   "language": "python",
   "name": "python3"
  },
  "language_info": {
   "codemirror_mode": {
    "name": "ipython",
    "version": 3
   },
   "file_extension": ".py",
   "mimetype": "text/x-python",
   "name": "python",
   "nbconvert_exporter": "python",
   "pygments_lexer": "ipython3",
   "version": "3.9.7"
  }
 },
 "nbformat": 4,
 "nbformat_minor": 5
}
