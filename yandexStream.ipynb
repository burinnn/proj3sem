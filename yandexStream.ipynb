{
 "cells": [
  {
   "cell_type": "markdown",
   "id": "cf6f65d6-ae2f-4de4-8af6-406d4e2630ba",
   "metadata": {},
   "source": [
    "# Проект <span style=\"color:red\">Я</span>ндекс.Поток"
   ]
  },
  {
   "cell_type": "markdown",
   "id": "1421f122-dc3c-4c51-bee9-e605aed0fb8d",
   "metadata": {
    "tags": []
   },
   "source": [
    "## Описание проекта"
   ]
  },
  {
   "cell_type": "markdown",
   "id": "db550f86-a5d2-4b06-b49f-b62946b7c3ea",
   "metadata": {},
   "source": [
    "### Постановка задачи + Анализ источников"
   ]
  },
  {
   "cell_type": "markdown",
   "id": "48e2907b-1b0d-4489-9780-d821349b7aa6",
   "metadata": {},
   "source": [
    "Разработать программу, которая по заданному треку подбирает наиболее подходящие по жанру треки и выводит результат в порядке убывания \"схожести\"\n",
    "\n",
    "\n",
    "https://www.shazam.com/ru/charts/genre/world/dance"
   ]
  },
  {
   "cell_type": "markdown",
   "id": "99b5801e-7eb1-413b-a2de-2afcbfda0334",
   "metadata": {},
   "source": [
    "Цели:\n",
    "1. <p style=\"color:green\">Найти всевозможные ссылки на агрегаторы музыкальные либо на поисковики (shazam, zaycev)</p>\n",
    "2. Концепция: по названию ищем жанр(-ы), далее находим похожие по жанру треки (по популярности) + язык + треки похожих исполнителей + треки того же года  -> на первой сотне пытаемся найти пересечения\n",
    "Если они, то выводим список пересечений. Если нет, то ...\n",
    "\n",
    "Получив требуемые ресурсы, составить словарь синонимов для жанров, чтобы не было проблем с составленим запросов\n"
   ]
  },
  {
   "cell_type": "markdown",
   "id": "2aad95ae-d54d-4528-b984-8745d1b85a67",
   "metadata": {
    "jp-MarkdownHeadingCollapsed": true,
    "tags": []
   },
   "source": [
    "## Подготовка"
   ]
  },
  {
   "cell_type": "markdown",
   "id": "355d1381-5745-4895-969f-2bfb2d311ca3",
   "metadata": {
    "jp-MarkdownHeadingCollapsed": true,
    "tags": []
   },
   "source": [
    "###  Подключаем библиотеки и устанавливаем рабочую директорию"
   ]
  },
  {
   "cell_type": "code",
   "execution_count": 7,
   "id": "649842f6-c93b-4750-bb89-e8f181fd191a",
   "metadata": {},
   "outputs": [],
   "source": [
    "import pandas as pd\n",
    "from pandas import read_csv"
   ]
  },
  {
   "cell_type": "code",
   "execution_count": 8,
   "id": "70683953-bb19-4709-ade3-406505da149f",
   "metadata": {},
   "outputs": [],
   "source": [
    "import os\n",
    "os.chdir(os.getcwd())"
   ]
  },
  {
   "cell_type": "markdown",
   "id": "8f0ef346-7476-4af0-bb5a-49ef82ecdad1",
   "metadata": {
    "tags": []
   },
   "source": [
    "### Подгружаем данные по ТОП-200 "
   ]
  },
  {
   "cell_type": "code",
   "execution_count": 11,
   "id": "a5bf754f-e984-411b-a545-5268fb2e2a12",
   "metadata": {},
   "outputs": [
    {
     "data": {
      "text/html": [
       "<div>\n",
       "<style scoped>\n",
       "    .dataframe tbody tr th:only-of-type {\n",
       "        vertical-align: middle;\n",
       "    }\n",
       "\n",
       "    .dataframe tbody tr th {\n",
       "        vertical-align: top;\n",
       "    }\n",
       "\n",
       "    .dataframe thead th {\n",
       "        text-align: right;\n",
       "    }\n",
       "</style>\n",
       "<table border=\"1\" class=\"dataframe\">\n",
       "  <thead>\n",
       "    <tr style=\"text-align: right;\">\n",
       "      <th></th>\n",
       "      <th>Rank</th>\n",
       "      <th>Artist</th>\n",
       "      <th>Title</th>\n",
       "    </tr>\n",
       "  </thead>\n",
       "  <tbody>\n",
       "    <tr>\n",
       "      <th>0</th>\n",
       "      <td>1</td>\n",
       "      <td>DJ Smash &amp; NIVESTA</td>\n",
       "      <td>Позвони</td>\n",
       "    </tr>\n",
       "    <tr>\n",
       "      <th>1</th>\n",
       "      <td>2</td>\n",
       "      <td>Markul &amp; Тося Чайкина</td>\n",
       "      <td>Стрелы</td>\n",
       "    </tr>\n",
       "    <tr>\n",
       "      <th>2</th>\n",
       "      <td>3</td>\n",
       "      <td>Bakr</td>\n",
       "      <td>Вредина (Mbts Remix)</td>\n",
       "    </tr>\n",
       "    <tr>\n",
       "      <th>3</th>\n",
       "      <td>4</td>\n",
       "      <td>Miyagi &amp; Эндшпиль</td>\n",
       "      <td>Silhouette</td>\n",
       "    </tr>\n",
       "    <tr>\n",
       "      <th>4</th>\n",
       "      <td>5</td>\n",
       "      <td>Mario Fresh &amp; Renvtø</td>\n",
       "      <td>Necesar</td>\n",
       "    </tr>\n",
       "  </tbody>\n",
       "</table>\n",
       "</div>"
      ],
      "text/plain": [
       "   Rank                 Artist                 Title\n",
       "0     1     DJ Smash & NIVESTA               Позвони\n",
       "1     2  Markul & Тося Чайкина                Стрелы\n",
       "2     3                   Bakr  Вредина (Mbts Remix)\n",
       "3     4      Miyagi & Эндшпиль            Silhouette\n",
       "4     5   Mario Fresh & Renvtø               Necesar"
      ]
     },
     "execution_count": 11,
     "metadata": {},
     "output_type": "execute_result"
    }
   ],
   "source": [
    "df_rus_200 = read_csv(\"data/ShazamTopRus200.csv\", skiprows = 2, on_bad_lines='skip')\n",
    "df_rus_200.head()"
   ]
  },
  {
   "cell_type": "code",
   "execution_count": 12,
   "id": "9cdfa5ab-cafd-48a9-be77-ec8a46004179",
   "metadata": {},
   "outputs": [
    {
     "data": {
      "text/plain": [
       "(200, 3)"
      ]
     },
     "execution_count": 12,
     "metadata": {},
     "output_type": "execute_result"
    }
   ],
   "source": [
    "df_rus_200.shape"
   ]
  },
  {
   "cell_type": "code",
   "execution_count": 13,
   "id": "d98e6020-65e6-4fcc-976e-4e87d87204b8",
   "metadata": {},
   "outputs": [
    {
     "data": {
      "text/html": [
       "<div>\n",
       "<style scoped>\n",
       "    .dataframe tbody tr th:only-of-type {\n",
       "        vertical-align: middle;\n",
       "    }\n",
       "\n",
       "    .dataframe tbody tr th {\n",
       "        vertical-align: top;\n",
       "    }\n",
       "\n",
       "    .dataframe thead th {\n",
       "        text-align: right;\n",
       "    }\n",
       "</style>\n",
       "<table border=\"1\" class=\"dataframe\">\n",
       "  <thead>\n",
       "    <tr style=\"text-align: right;\">\n",
       "      <th></th>\n",
       "      <th>Rank</th>\n",
       "      <th>Artist</th>\n",
       "      <th>Title</th>\n",
       "    </tr>\n",
       "  </thead>\n",
       "  <tbody>\n",
       "    <tr>\n",
       "      <th>0</th>\n",
       "      <td>1</td>\n",
       "      <td>JIN</td>\n",
       "      <td>The Astronaut</td>\n",
       "    </tr>\n",
       "    <tr>\n",
       "      <th>1</th>\n",
       "      <td>2</td>\n",
       "      <td>Sam Smith &amp; Kim Petras</td>\n",
       "      <td>Unholy</td>\n",
       "    </tr>\n",
       "    <tr>\n",
       "      <th>2</th>\n",
       "      <td>3</td>\n",
       "      <td>Rihanna</td>\n",
       "      <td>Lift Me Up (From Black Panther: Wakanda Foreve...</td>\n",
       "    </tr>\n",
       "    <tr>\n",
       "      <th>3</th>\n",
       "      <td>4</td>\n",
       "      <td>Oliver Tree &amp; Robin Schulz</td>\n",
       "      <td>Miss You</td>\n",
       "    </tr>\n",
       "    <tr>\n",
       "      <th>4</th>\n",
       "      <td>5</td>\n",
       "      <td>Rema</td>\n",
       "      <td>Calm Down</td>\n",
       "    </tr>\n",
       "  </tbody>\n",
       "</table>\n",
       "</div>"
      ],
      "text/plain": [
       "   Rank                      Artist  \\\n",
       "0     1                         JIN   \n",
       "1     2      Sam Smith & Kim Petras   \n",
       "2     3                     Rihanna   \n",
       "3     4  Oliver Tree & Robin Schulz   \n",
       "4     5                        Rema   \n",
       "\n",
       "                                               Title  \n",
       "0                                      The Astronaut  \n",
       "1                                             Unholy  \n",
       "2  Lift Me Up (From Black Panther: Wakanda Foreve...  \n",
       "3                                           Miss You  \n",
       "4                                          Calm Down  "
      ]
     },
     "execution_count": 13,
     "metadata": {},
     "output_type": "execute_result"
    }
   ],
   "source": [
    "df_world_200 = read_csv(\"data/ShazamTopWorld200.csv\", skiprows = 2, on_bad_lines='skip')\n",
    "df_world_200.head()"
   ]
  },
  {
   "cell_type": "code",
   "execution_count": 14,
   "id": "f32938be-40b9-48fc-8601-50035c1dfa34",
   "metadata": {},
   "outputs": [
    {
     "data": {
      "text/plain": [
       "(199, 3)"
      ]
     },
     "execution_count": 14,
     "metadata": {},
     "output_type": "execute_result"
    }
   ],
   "source": [
    "df_world_200.shape"
   ]
  },
  {
   "cell_type": "code",
   "execution_count": 22,
   "id": "e83eb09d-197b-48a5-92ff-c814c2523b49",
   "metadata": {},
   "outputs": [
    {
     "data": {
      "text/plain": [
       "True"
      ]
     },
     "execution_count": 22,
     "metadata": {},
     "output_type": "execute_result"
    }
   ],
   "source": [
    "not df_world_200.loc[df_world_200['Title']=='Miss You'].empty"
   ]
  },
  {
   "cell_type": "markdown",
   "id": "ee30d732-6ccb-4e79-8192-a7c4eed889a3",
   "metadata": {
    "tags": []
   },
   "source": [
    "## Реализация"
   ]
  },
  {
   "cell_type": "code",
   "execution_count": 1,
   "id": "696f399b-fdc5-4195-ada5-c1af849b7258",
   "metadata": {},
   "outputs": [],
   "source": [
    "import pandas as pd\n",
    "from pandas import read_csv\n",
    "import numpy as np\n",
    "import requests\n",
    "import os\n",
    "os.chdir(os.getcwd())"
   ]
  },
  {
   "cell_type": "markdown",
   "id": "c19211b8-60f5-4ebc-8957-d8e71cd20d2b",
   "metadata": {
    "tags": []
   },
   "source": [
    "### Databases"
   ]
  },
  {
   "cell_type": "code",
   "execution_count": 2,
   "id": "0336fa48-307d-4697-a9bc-4b713a324f46",
   "metadata": {},
   "outputs": [],
   "source": [
    "# Top-200\n",
    "df_rus_top = read_csv(\"data/ShazamRusTop200.csv\", skiprows = 2, on_bad_lines='skip')\n",
    "df_world_top = read_csv(\"data/ShazamWorldTop200.csv\", skiprows = 2, on_bad_lines='skip')\n",
    "\n",
    "# Pop\n",
    "df_rus_pop = read_csv(\"data/ShazamRusPop.csv\", skiprows = 2, on_bad_lines='skip')\n",
    "df_world_pop = read_csv(\"data/ShazamWorldPop.csv\", skiprows = 2, on_bad_lines='skip')\n",
    "\n",
    "# Hip-Hop\n",
    "df_rus_hiphop = read_csv(\"data/ShazamRusHipHop.csv\", skiprows = 2, on_bad_lines='skip')\n",
    "df_world_hiphop = read_csv(\"data/ShazamWorldHipHop.csv\", skiprows = 2, on_bad_lines='skip')\n",
    "\n",
    "# Dance\n",
    "df_rus_dance = read_csv(\"data/ShazamRusDance.csv\", skiprows = 2, on_bad_lines='skip')\n",
    "df_world_dance = read_csv(\"data/ShazamWorldDance.csv\", skiprows = 2, on_bad_lines='skip')"
   ]
  },
  {
   "cell_type": "code",
   "execution_count": 3,
   "id": "d2e803bf-3dc0-4195-8039-a64ad810552f",
   "metadata": {},
   "outputs": [],
   "source": [
    "# MAIN DATABASE\n",
    "\n",
    "music_dict = {\n",
    "    \"Top200\": [\n",
    "        {\n",
    "            \"path\": \"data/ShazamRusTop200.csv\", \n",
    "            \"df\": df_rus_top,\n",
    "            \"ref\": \"https://www.shazam.com/services/charts/csv/top-200/russia/\"\n",
    "        }, \n",
    "        {\n",
    "            \"path\": \"data/ShazamWorldTop200.csv\", \n",
    "            \"df\": df_world_top,\n",
    "            \"ref\": \"https://www.shazam.com/services/charts/csv/top-200/world/\"\n",
    "        }],\n",
    "    \"Pop\":[\n",
    "        {\n",
    "            \"path\": \"data/ShazamRusPop.csv\", \n",
    "            \"df\": df_rus_pop,\n",
    "            \"ref\": \"https://www.shazam.com/services/charts/csv/genre/russia/pop\"\n",
    "        }, \n",
    "        {\n",
    "            \"path\":\"data/ShazamWorldPop.csv\", \n",
    "            \"df\": df_world_pop,\n",
    "            \"ref\": \"https://www.shazam.com/services/charts/csv/genre/world/pop\"\n",
    "        }], \n",
    "    \"Hip-Hop\":[\n",
    "        {\n",
    "            \"path\": \"data/ShazamRusHipHop.csv\", \n",
    "            \"df\": df_rus_hiphop,\n",
    "            \"ref\": \"https://www.shazam.com/services/charts/csv/genre/russia/hip-hop-rap\"\n",
    "        }, \n",
    "        {\n",
    "            \"path\": \"data/ShazamWorldHipHop.csv\", \n",
    "            \"df\": df_world_hiphop,\n",
    "            \"ref\": \"https://www.shazam.com/services/charts/csv/genre/world/hip-hop-rap\"\n",
    "        }], \n",
    "    \"Dance\": [\n",
    "        {\n",
    "            \"path\": \"data/ShazamRusDance.csv\", \n",
    "            \"df\": df_rus_dance,\n",
    "            \"ref\": \"https://www.shazam.com/services/charts/csv/genre/russia/dance\"\n",
    "        }, \n",
    "        {\n",
    "            \"path\": \"data/ShazamWorldDance.csv\", \n",
    "            \"df\": df_world_dance,\n",
    "            \"ref\": \"https://www.shazam.com/services/charts/csv/genre/world/dance\"\n",
    "        }]\n",
    "        }"
   ]
  },
  {
   "cell_type": "markdown",
   "id": "e236b545-ba39-4337-858b-a58d1261a903",
   "metadata": {
    "tags": []
   },
   "source": [
    "### Функция подборки музыки getNextTrack"
   ]
  },
  {
   "cell_type": "code",
   "execution_count": 4,
   "id": "7c89fb2d-2107-4b4d-8131-e108d814aa72",
   "metadata": {},
   "outputs": [],
   "source": [
    "def getNextTrack(title: str, artist = \"Noname\", track_num = 1) -> list:\n",
    "    \"\"\" Функция поиска следующего/-их для воспроизведения трека/-ов \"\"\"\n",
    "    \n",
    "    search_res = []\n",
    "    \n",
    "    # поиск подходящих баз данных из числа имеющихся\n",
    "    for key, value in music_dict.items():\n",
    "        for data in value:\n",
    "            df = data[\"df\"]\n",
    "            if not df.loc[df['Title'] == title].empty:\n",
    "                search_res.append([key, df])\n",
    "                \n",
    "    # если подходящих не нашлось\n",
    "    if not search_res:\n",
    "        if artist == \"Noname\":\n",
    "            variants = music_dict[\"Top200\"][0][\"df\"][\"Title\"]\n",
    "            return variants.sample(n=track_num, random_state=np.random.randint(1, 1000)).values[:track_num].tolist()\n",
    "        else:\n",
    "            pass\n",
    "\n",
    "    # если мы нашли хотя бы одну подходящую базу данных\n",
    "    variants = []\n",
    "    for key, df in search_res:\n",
    "        for track in df[\"Title\"].values:\n",
    "            variants.append([key, track])\n",
    "            \n",
    "    variants = np.array(variants)\n",
    "    np.random.shuffle(variants)\n",
    "    \n",
    "    return variants[:track_num].tolist()\n",
    "        \n",
    "    "
   ]
  },
  {
   "cell_type": "markdown",
   "id": "29c28108-ac5b-4298-ae36-59fefe5045a7",
   "metadata": {},
   "source": [
    "__Проверка__"
   ]
  },
  {
   "cell_type": "code",
   "execution_count": 5,
   "id": "3c1d3c0f-0435-4b16-a9d3-215b246d4aa1",
   "metadata": {},
   "outputs": [
    {
     "data": {
      "text/plain": [
       "[\"Don't Stop the Party\",\n",
       " '1, 2, 3 (feat. De La Ghetto & Jason Derulo)',\n",
       " 'Угонщица 2023',\n",
       " 'Снегири',\n",
       " 'Мечтали']"
      ]
     },
     "execution_count": 5,
     "metadata": {},
     "output_type": "execute_result"
    }
   ],
   "source": [
    "getNextTrack(\"asdfghj\", track_num = 5)"
   ]
  },
  {
   "cell_type": "code",
   "execution_count": 6,
   "id": "83cc143d-e833-4ad9-929c-cfecd0bad06a",
   "metadata": {},
   "outputs": [
    {
     "data": {
      "text/plain": [
       "[['Top200', 'Marea (We’ve Lost Dancing)'],\n",
       " ['Top200', 'Collide (feat. Tyga) [Sped Up Remix]'],\n",
       " ['Dance', 'When Love Takes Over (feat. Kelly Rowland) [Mixed]'],\n",
       " ['Top200', \"I'm Good (Blue)\"],\n",
       " ['Dance', 'Pump It Louder']]"
      ]
     },
     "execution_count": 6,
     "metadata": {},
     "output_type": "execute_result"
    }
   ],
   "source": [
    "getNextTrack(\"Miss You\", track_num = 5)"
   ]
  },
  {
   "cell_type": "markdown",
   "id": "b8a6d685-9910-488e-a716-b9af3762c310",
   "metadata": {
    "tags": []
   },
   "source": [
    "### Функция обновления данных песен updateSongs"
   ]
  },
  {
   "cell_type": "code",
   "execution_count": 7,
   "id": "f1736f21-c277-4188-be4b-586ba8de780e",
   "metadata": {},
   "outputs": [],
   "source": [
    "def updateSongs():   \n",
    "    from time import sleep\n",
    "    print(f\"Выберите базу для обновления (0-{len(music_dict)}):\")\n",
    "    for i, key in enumerate(music_dict):\n",
    "        print(f\"{i}: {key}\")\n",
    "    print(f\"{len(music_dict)}: Обновить все\")\n",
    "    choice = int(input(\"\\nВаш выбор:\\n\"))\n",
    "    \n",
    "    if choice not in range(len(music_dict) + 1):\n",
    "        raise ValueError('Некорректный выбор')\n",
    "    elif choice < len(music_dict):\n",
    "        name = list(music_dict.keys())[choice]\n",
    "        print(f\"Обновление баз {name} запущено\")\n",
    "        \n",
    "        for indx in range(len(music_dict[name])):\n",
    "            # Вводим ссылку на скачивание csv\n",
    "            URL = music_dict[name][indx][\"ref\"]\n",
    "\n",
    "            # Перезаписываем имеющийся csv файл на новый\n",
    "            try:\n",
    "                response = requests.get(URL)\n",
    "            except:\n",
    "                print(f\"База номер {indx} в {name} пропущена...\")\n",
    "                continue\n",
    "            open(music_dict[name][indx][\"path\"], \"wb\").write(response.content)\n",
    "\n",
    "            # Обновляем DataFrame\n",
    "            music_dict[name][indx][\"df\"] = read_csv(music_dict[name][indx][\"path\"], skiprows = 2, on_bad_lines='skip')\n",
    "        \n",
    "        print(f\"Обновление баз {name} завершено\")\n",
    "    else:\n",
    "        for name in music_dict:\n",
    "            print(f\"Обновление баз {name} запущено\")\n",
    "            \n",
    "            for indx in range(len(music_dict[name])):\n",
    "                # Вводим ссылку на скачивание csv\n",
    "                URL = music_dict[name][indx][\"ref\"]\n",
    "\n",
    "                # Перезаписываем имеющийся csv файл на новый\n",
    "                try:\n",
    "                    response = requests.get(URL)\n",
    "                except:\n",
    "                    print(f\"База номер {indx} в {name} пропущена...\")\n",
    "                    continue\n",
    "                open(music_dict[name][indx][\"path\"], \"wb\").write(response.content)\n",
    "\n",
    "                # Обновляем DataFrame\n",
    "                music_dict[name][indx][\"df\"] = read_csv(music_dict[name][indx][\"path\"], skiprows = 2, on_bad_lines='skip')\n",
    "            sleep(0.5)\n",
    "            print(f\"Обновление баз {name} завершено\")\n",
    "            sleep(1)\n",
    "        "
   ]
  },
  {
   "cell_type": "markdown",
   "id": "e72e6e7e-699e-405e-9a6e-88bd4003c1c7",
   "metadata": {},
   "source": [
    "__Проверка__"
   ]
  },
  {
   "cell_type": "code",
   "execution_count": 8,
   "id": "10c8cb51-0bd0-463a-af64-e48bcde76cf5",
   "metadata": {},
   "outputs": [
    {
     "name": "stdout",
     "output_type": "stream",
     "text": [
      "Выберите базу для обновления (0-4):\n",
      "0: Top200\n",
      "1: Pop\n",
      "2: Hip-Hop\n",
      "3: Dance\n",
      "4: Обновить все\n"
     ]
    },
    {
     "name": "stdin",
     "output_type": "stream",
     "text": [
      "\n",
      "Ваш выбор:\n",
      " 4\n"
     ]
    },
    {
     "name": "stdout",
     "output_type": "stream",
     "text": [
      "Обновление баз Top200 запущено\n",
      "Обновление баз Top200 завершено\n",
      "Обновление баз Pop запущено\n",
      "Обновление баз Pop завершено\n",
      "Обновление баз Hip-Hop запущено\n",
      "Обновление баз Hip-Hop завершено\n",
      "Обновление баз Dance запущено\n",
      "Обновление баз Dance завершено\n"
     ]
    }
   ],
   "source": [
    "updateSongs()"
   ]
  },
  {
   "cell_type": "markdown",
   "id": "a39efebf-7ecc-4e70-afc6-c2c07b2446a6",
   "metadata": {
    "tags": []
   },
   "source": [
    "### Парсер новинок(обновление рейтингов + добавление треков)"
   ]
  },
  {
   "cell_type": "markdown",
   "id": "071f3cb7-a3c5-4ecb-9807-a325f599da90",
   "metadata": {
    "tags": []
   },
   "source": [
    "####  Read ownChart"
   ]
  },
  {
   "cell_type": "code",
   "execution_count": 9,
   "id": "3578ac78-916c-4942-a4df-47b7cdfe07ff",
   "metadata": {},
   "outputs": [],
   "source": [
    "def getOwnChart():\n",
    "    return pd.read_csv(\"data/ownChart.csv\")\n"
   ]
  },
  {
   "cell_type": "code",
   "execution_count": 76,
   "id": "8a7e6a2e-6cad-44d5-ad5f-76b655115412",
   "metadata": {},
   "outputs": [
    {
     "data": {
      "text/html": [
       "<div>\n",
       "<style scoped>\n",
       "    .dataframe tbody tr th:only-of-type {\n",
       "        vertical-align: middle;\n",
       "    }\n",
       "\n",
       "    .dataframe tbody tr th {\n",
       "        vertical-align: top;\n",
       "    }\n",
       "\n",
       "    .dataframe thead th {\n",
       "        text-align: right;\n",
       "    }\n",
       "</style>\n",
       "<table border=\"1\" class=\"dataframe\">\n",
       "  <thead>\n",
       "    <tr style=\"text-align: right;\">\n",
       "      <th></th>\n",
       "      <th>Artist</th>\n",
       "      <th>Title</th>\n",
       "      <th>Views (per 1k)</th>\n",
       "    </tr>\n",
       "  </thead>\n",
       "  <tbody>\n",
       "    <tr>\n",
       "      <th>0</th>\n",
       "      <td>Markul &amp; Тося Чайкина</td>\n",
       "      <td>Стрелы</td>\n",
       "      <td>112.2</td>\n",
       "    </tr>\n",
       "  </tbody>\n",
       "</table>\n",
       "</div>"
      ],
      "text/plain": [
       "                  Artist   Title  Views (per 1k)\n",
       "0  Markul & Тося Чайкина  Стрелы           112.2"
      ]
     },
     "execution_count": 76,
     "metadata": {},
     "output_type": "execute_result"
    }
   ],
   "source": [
    "df = getOwnChart()\n",
    "df.head()"
   ]
  },
  {
   "cell_type": "code",
   "execution_count": 75,
   "id": "8ddfbc08-267f-44b7-9914-456370756b15",
   "metadata": {},
   "outputs": [],
   "source": [
    "# df.to_csv(\"data/ownChart.csv\", index=False)"
   ]
  },
  {
   "cell_type": "markdown",
   "id": "96a91eb9-e1ec-42d1-bcfe-413c6ede5add",
   "metadata": {
    "tags": []
   },
   "source": [
    "#### Add new Track"
   ]
  },
  {
   "cell_type": "markdown",
   "id": "f7bd3189-797f-46b1-b7c6-018582a1b6a5",
   "metadata": {
    "jp-MarkdownHeadingCollapsed": true,
    "tags": []
   },
   "source": [
    "##### Prepare"
   ]
  },
  {
   "cell_type": "code",
   "execution_count": 13,
   "id": "558b9f17-4ebd-4579-89e1-26e9ecc0ce90",
   "metadata": {
    "tags": []
   },
   "outputs": [
    {
     "name": "stdout",
     "output_type": "stream",
     "text": [
      "https://www.google.com/search?q=%D1%8D%D0%BA%D0%BB%D0%B5%D1%80+heroinwater+genius\n"
     ]
    }
   ],
   "source": [
    "req = {'q': 'эклер heroinwater' + ' genius'}  \n",
    "r = requests.get('https://www.google.com/search', params=req)\n",
    "print(r.url)"
   ]
  },
  {
   "cell_type": "code",
   "execution_count": 14,
   "id": "1bf0a278-02a9-4394-aa78-f44cbf521f3b",
   "metadata": {},
   "outputs": [],
   "source": [
    "soup = BeautifulSoup(r.content, \"html.parser\")\n",
    "info = \"\"\n",
    "target = soup.findAll(\"a\", limit =20)"
   ]
  },
  {
   "cell_type": "code",
   "execution_count": 15,
   "id": "8d48f8fd-4f4d-4ace-a150-aaa6cc9ad0fa",
   "metadata": {},
   "outputs": [],
   "source": [
    "for a_tag in target:\n",
    "    href = a_tag.attrs.get(\"href\")\n",
    "    if href == \"\" or href is None or (\"/url?q=\" not in href):\n",
    "        continue\n",
    "    info = href[href.find(\"=\") + 1:href.find(\"&\")]\n",
    "    break\n",
    "    "
   ]
  },
  {
   "cell_type": "code",
   "execution_count": 16,
   "id": "2b520af8-1081-4544-986c-6021af0721da",
   "metadata": {},
   "outputs": [
    {
     "data": {
      "text/plain": [
       "'https://genius.com/Heronwater-ekler-lyrics'"
      ]
     },
     "execution_count": 16,
     "metadata": {},
     "output_type": "execute_result"
    }
   ],
   "source": [
    "info"
   ]
  },
  {
   "cell_type": "code",
   "execution_count": 31,
   "id": "96defe19-b64f-48a7-b563-6156d6a7b3fc",
   "metadata": {},
   "outputs": [],
   "source": [
    "soup_info = BeautifulSoup(requests.get(info).content, \"html.parser\")\n",
    "target = []\n",
    "for sp in soup_info.find_all('span', limit=15):\n",
    "    if sp.text:\n",
    "        target.append(sp.text)"
   ]
  },
  {
   "cell_type": "code",
   "execution_count": 37,
   "id": "f0237d7b-9627-4e33-91c5-d8d8090e4158",
   "metadata": {},
   "outputs": [
    {
     "name": "stdout",
     "output_type": "stream",
     "text": [
      "Title: Эклер (Ekler)\n",
      "Artist: Heronwater\n",
      "Views: 11.1k\n"
     ]
    }
   ],
   "source": [
    "song_title = target[4]\n",
    "song_artist = target[5]\n",
    "song_views = float(sorted(target)[0][:-1])\n",
    "\n",
    "print(f\"Title: {song_title}\")\n",
    "print(f\"Artist: {song_artist}\")\n",
    "print(f\"Views: {song_views}k\")"
   ]
  },
  {
   "cell_type": "markdown",
   "id": "12f0e46f-2128-4fdb-985c-99bd26bf17d3",
   "metadata": {},
   "source": [
    "##### Result"
   ]
  },
  {
   "cell_type": "code",
   "execution_count": 83,
   "id": "6b8a8bd8-119a-40a0-b1dc-66df87964cb1",
   "metadata": {},
   "outputs": [],
   "source": [
    "from bs4 import BeautifulSoup\n",
    "def searchNewTrack(song_info: str):\n",
    "    req = {'q': song_info + ' genius'}  \n",
    "    r = requests.get('https://www.google.com/search', params=req)\n",
    "\n",
    "    soup = BeautifulSoup(r.content, \"html.parser\")\n",
    "    info = \"\"\n",
    "    search_res = soup.findAll(\"a\", limit =20)\n",
    "    for a_tag in search_res:\n",
    "        href = a_tag.attrs.get(\"href\")\n",
    "        if href == \"\" or href is None or (\"/url?q=\" not in href):\n",
    "            continue\n",
    "        info = href[href.find(\"=\") + 1:href.find(\"&\")]\n",
    "        break\n",
    "\n",
    "    if not info:\n",
    "        print(\"По вашему запросу не удалось найти песню. Повторите попытку с другими ключевыми словами\")\n",
    "    soup_info = BeautifulSoup(requests.get(info).content, \"html.parser\")\n",
    "    target = []\n",
    "    for sp in soup_info.find_all('span', limit=15):\n",
    "        if sp.text:\n",
    "            target.append(sp.text)\n",
    "    song_title = target[4]\n",
    "    song_artist = target[5]\n",
    "    song_views = target[-1]\n",
    "\n",
    "\n",
    "    print(\"По вашему запросу была найдена следующая песня:\")\n",
    "    print(f\"Title: {song_title}\")\n",
    "    print(f\"Artist: {song_artist}\\n\")\n",
    "    isValid = input(\"Добавлять найденный трек в базу: да или нет\\n\")\n",
    "    if isValid.lower() == \"да\":\n",
    "        if 'M' in song_views:\n",
    "            song_views = float(song_views[:-1]) * 1000\n",
    "        else:\n",
    "            song_views = float(song_views[:-1])\n",
    "        df = getOwnChart()\n",
    "        df = df.append({'Artist': song_artist, 'Title': song_title, 'Views (per 1k)': song_views}, ignore_index=True)\n",
    "        df = df.drop_duplicates()\n",
    "        df.to_csv(\"data/ownChart.csv\", index=False)\n",
    "        print(\"База успешно обновлена\")\n",
    "    return"
   ]
  },
  {
   "cell_type": "markdown",
   "id": "3370d0be-6e63-45f8-b8fc-c9582b6de97b",
   "metadata": {},
   "source": [
    "##### Test"
   ]
  },
  {
   "cell_type": "code",
   "execution_count": 78,
   "id": "083d649d-0369-467e-86aa-6c81b9bd839d",
   "metadata": {},
   "outputs": [
    {
     "data": {
      "text/html": [
       "<div>\n",
       "<style scoped>\n",
       "    .dataframe tbody tr th:only-of-type {\n",
       "        vertical-align: middle;\n",
       "    }\n",
       "\n",
       "    .dataframe tbody tr th {\n",
       "        vertical-align: top;\n",
       "    }\n",
       "\n",
       "    .dataframe thead th {\n",
       "        text-align: right;\n",
       "    }\n",
       "</style>\n",
       "<table border=\"1\" class=\"dataframe\">\n",
       "  <thead>\n",
       "    <tr style=\"text-align: right;\">\n",
       "      <th></th>\n",
       "      <th>Artist</th>\n",
       "      <th>Title</th>\n",
       "      <th>Views (per 1k)</th>\n",
       "    </tr>\n",
       "  </thead>\n",
       "  <tbody>\n",
       "    <tr>\n",
       "      <th>0</th>\n",
       "      <td>Markul &amp; Тося Чайкина</td>\n",
       "      <td>Стрелы</td>\n",
       "      <td>112.2</td>\n",
       "    </tr>\n",
       "  </tbody>\n",
       "</table>\n",
       "</div>"
      ],
      "text/plain": [
       "                  Artist   Title  Views (per 1k)\n",
       "0  Markul & Тося Чайкина  Стрелы           112.2"
      ]
     },
     "execution_count": 78,
     "metadata": {},
     "output_type": "execute_result"
    }
   ],
   "source": [
    "df = getOwnChart()\n",
    "df.head()"
   ]
  },
  {
   "cell_type": "code",
   "execution_count": 79,
   "id": "f83d3735-c466-4e23-a1f7-0370271f70d6",
   "metadata": {},
   "outputs": [
    {
     "name": "stdout",
     "output_type": "stream",
     "text": [
      "По вашему запросу была найдена следующая песня:\n",
      "Title: Эклер (Ekler)\n",
      "Artist: Heronwater\n",
      "\n"
     ]
    },
    {
     "name": "stdin",
     "output_type": "stream",
     "text": [
      "Добавлять найденный трек в базу: да или нет\n",
      " да\n"
     ]
    }
   ],
   "source": [
    "searchNewTrack(\"эклер heroinwater\")"
   ]
  },
  {
   "cell_type": "code",
   "execution_count": 80,
   "id": "a5bb76be-6837-4ff4-a9e2-4b0609ff3ccd",
   "metadata": {},
   "outputs": [
    {
     "data": {
      "text/html": [
       "<div>\n",
       "<style scoped>\n",
       "    .dataframe tbody tr th:only-of-type {\n",
       "        vertical-align: middle;\n",
       "    }\n",
       "\n",
       "    .dataframe tbody tr th {\n",
       "        vertical-align: top;\n",
       "    }\n",
       "\n",
       "    .dataframe thead th {\n",
       "        text-align: right;\n",
       "    }\n",
       "</style>\n",
       "<table border=\"1\" class=\"dataframe\">\n",
       "  <thead>\n",
       "    <tr style=\"text-align: right;\">\n",
       "      <th></th>\n",
       "      <th>Artist</th>\n",
       "      <th>Title</th>\n",
       "      <th>Views (per 1k)</th>\n",
       "    </tr>\n",
       "  </thead>\n",
       "  <tbody>\n",
       "    <tr>\n",
       "      <th>0</th>\n",
       "      <td>Markul &amp; Тося Чайкина</td>\n",
       "      <td>Стрелы</td>\n",
       "      <td>112.2</td>\n",
       "    </tr>\n",
       "    <tr>\n",
       "      <th>1</th>\n",
       "      <td>Heronwater</td>\n",
       "      <td>Эклер (Ekler)</td>\n",
       "      <td>11.1</td>\n",
       "    </tr>\n",
       "  </tbody>\n",
       "</table>\n",
       "</div>"
      ],
      "text/plain": [
       "                  Artist          Title  Views (per 1k)\n",
       "0  Markul & Тося Чайкина         Стрелы           112.2\n",
       "1             Heronwater  Эклер (Ekler)            11.1"
      ]
     },
     "execution_count": 80,
     "metadata": {},
     "output_type": "execute_result"
    }
   ],
   "source": [
    "df = getOwnChart()\n",
    "df.head()"
   ]
  },
  {
   "cell_type": "code",
   "execution_count": 81,
   "id": "38d2cba7-8266-4967-805c-be9d782f1f1c",
   "metadata": {},
   "outputs": [
    {
     "name": "stdout",
     "output_type": "stream",
     "text": [
      "По вашему запросу была найдена следующая песня:\n",
      "Title: Cadillac\n",
      "Artist: MORGENSHTERN & Элджей (Eldzhey)\n",
      "\n"
     ]
    },
    {
     "name": "stdin",
     "output_type": "stream",
     "text": [
      "Добавлять найденный трек в базу: да или нет\n",
      " да\n"
     ]
    }
   ],
   "source": [
    "searchNewTrack(\"morgenstern кадилак\")"
   ]
  },
  {
   "cell_type": "code",
   "execution_count": 82,
   "id": "2b1d1145-2c42-4a29-9167-0ee31bbd019b",
   "metadata": {},
   "outputs": [
    {
     "data": {
      "text/html": [
       "<div>\n",
       "<style scoped>\n",
       "    .dataframe tbody tr th:only-of-type {\n",
       "        vertical-align: middle;\n",
       "    }\n",
       "\n",
       "    .dataframe tbody tr th {\n",
       "        vertical-align: top;\n",
       "    }\n",
       "\n",
       "    .dataframe thead th {\n",
       "        text-align: right;\n",
       "    }\n",
       "</style>\n",
       "<table border=\"1\" class=\"dataframe\">\n",
       "  <thead>\n",
       "    <tr style=\"text-align: right;\">\n",
       "      <th></th>\n",
       "      <th>Artist</th>\n",
       "      <th>Title</th>\n",
       "      <th>Views (per 1k)</th>\n",
       "    </tr>\n",
       "  </thead>\n",
       "  <tbody>\n",
       "    <tr>\n",
       "      <th>0</th>\n",
       "      <td>Markul &amp; Тося Чайкина</td>\n",
       "      <td>Стрелы</td>\n",
       "      <td>112.2</td>\n",
       "    </tr>\n",
       "    <tr>\n",
       "      <th>1</th>\n",
       "      <td>Heronwater</td>\n",
       "      <td>Эклер (Ekler)</td>\n",
       "      <td>11.1</td>\n",
       "    </tr>\n",
       "    <tr>\n",
       "      <th>2</th>\n",
       "      <td>MORGENSHTERN &amp; Элджей (Eldzhey)</td>\n",
       "      <td>Cadillac</td>\n",
       "      <td>2000.0</td>\n",
       "    </tr>\n",
       "  </tbody>\n",
       "</table>\n",
       "</div>"
      ],
      "text/plain": [
       "                            Artist          Title  Views (per 1k)\n",
       "0            Markul & Тося Чайкина         Стрелы           112.2\n",
       "1                       Heronwater  Эклер (Ekler)            11.1\n",
       "2  MORGENSHTERN & Элджей (Eldzhey)       Cadillac          2000.0"
      ]
     },
     "execution_count": 82,
     "metadata": {},
     "output_type": "execute_result"
    }
   ],
   "source": [
    "df = getOwnChart()\n",
    "df.head()"
   ]
  },
  {
   "cell_type": "code",
   "execution_count": null,
   "id": "a95e1fe4-6393-4069-b07f-fecd2f203f4c",
   "metadata": {},
   "outputs": [],
   "source": []
  }
 ],
 "metadata": {
  "kernelspec": {
   "display_name": "Python 3 (ipykernel)",
   "language": "python",
   "name": "python3"
  },
  "language_info": {
   "codemirror_mode": {
    "name": "ipython",
    "version": 3
   },
   "file_extension": ".py",
   "mimetype": "text/x-python",
   "name": "python",
   "nbconvert_exporter": "python",
   "pygments_lexer": "ipython3",
   "version": "3.9.7"
  }
 },
 "nbformat": 4,
 "nbformat_minor": 5
}
